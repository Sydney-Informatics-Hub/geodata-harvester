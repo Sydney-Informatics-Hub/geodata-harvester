{
 "cells": [
  {
   "cell_type": "markdown",
   "id": "388162a8",
   "metadata": {},
   "source": [
    "# Session 2 - running a harvest with a settings.yaml file\n",
    "-------------------------\n",
    "\n",
    "\n",
    "## The settings file\n",
    "\n",
    "The Data-Harvester uses a YAML configuration file to perform bulk downloads in a single command.\n",
    "\n",
    "::: {.callout-caution collapse=\"true\"}\n",
    "### What is YAML?\n",
    "[YAML](https://yaml.org/) is a human-readable data-serialization language. It is commonly used for configuration files and in applications where data is being stored or transmitted. YAML files are easy to read and write, and are often used to configure software applications. A typical YAML file looks like this:\n",
    "\n",
    "```yaml\n",
    "---\n",
    "name: \"John Smith\"\n",
    "age: 42\n",
    "occupation: \"gardener\"\n",
    "```\n",
    "\n",
    "Looks familiar? If you have used Markdown or R Markdown, YAML is used to define the metadata for the document.\n",
    "\n",
    "A YAML configuration file helps to keep track of the data you have downloaded and the analyses you have performed. It also allows you to easily reproduce your analyses and share them with others.\n",
    ":::\n",
    "\n",
    "\n",
    "\n",
    "#### Basic usage\n",
    "\n",
    "Below is the YAML file for `basic_config.yaml` which can be found in the `data` folder on the Jupyter Hub Server\n",
    "\n",
    "```yaml\n",
    "outpath: results_basic/\n",
    "target_bbox: [149.769345, -30.335861, 149.949173, -30.206271]\n",
    "target_res: 6.0\n",
    "date_min : 2022-10-01\n",
    "date_max : 2022-11-30\n",
    "target_sources:\n",
    "  DEA:\n",
    "  - landsat_barest_earth\n",
    "```\n",
    "To run the configuration file, we can use the `harvest.run()` function. The function takes a single argument, `path_to_config`, which is the path to the YAML file. The path can be either relative or absolute.\n",
    "\n",
    "::: {.callout-caution collapse=\"true\"}\n",
    "\n",
    "### Relative and absolute path strings\n",
    "A relative path is a path that is relative to the current working directory. For example, if you are working in the top level home directory, the path to the `basic_config.yaml` file, stored in the `data` folder, is `data/basic_config.yaml`.\n",
    "\n",
    "An absolute path is a path that starts from the root directory. For example, the absolute path to the `basic_config.yaml` file might be `/home/jovyan/data/basic_config.yaml` (note: this is not the actual path to the file).\n",
    "\n",
    "**Both paths point to the same file.**\n",
    "\n",
    "Relative paths are useful when you are working in a project directory, as they are shorter and easier to remember. Relative paths also allow you to share your code with others, as they will not need to change the path in the configuration file as long as they are working in the same folder. Absolute paths are useful when you are working in a different directory, or when you are working on a local machine.\n",
    ":::\n",
    "\n",
    "Making sure that your path is correct (and it should be, since you are on the Jupyter Lab server), run the code below:"
   ]
  },
  {
   "cell_type": "code",
   "execution_count": 1,
   "id": "478a9b04",
   "metadata": {},
   "outputs": [],
   "source": [
    "from geodata_harvester import harvest"
   ]
  },
  {
   "cell_type": "code",
   "execution_count": 3,
   "id": "6b9ddb16",
   "metadata": {},
   "outputs": [
    {
     "name": "stdout",
     "output_type": "stream",
     "text": [
      "\u001b[1m\u001b[35mStarting the data harvester -----\u001b[0m\n",
      "\u001b[35mℹ Found the following 1 sources: ['DEA']\u001b[0m\n",
      "\u001b[1m\u001b[35m\n",
      "Downloading from API sources -----\u001b[0m\n",
      "\u001b[1m\n",
      "⌛ Downloading DEA data...\u001b[0m\n",
      "\u001b[35m⊙ Downloading landsat_barest_earth.tif for None\u001b[0m 0.8s                                                           \n",
      "\u001b[1m\u001b[35m\n",
      "🎉 🎉 🎉 Harvest complete 🎉 🎉 🎉\u001b[0m\n"
     ]
    }
   ],
   "source": [
    "harvest.run(\"data/basic_config.yaml\")"
   ]
  },
  {
   "cell_type": "markdown",
   "id": "3ef1fcac",
   "metadata": {},
   "source": [
    "If you run the same config again, the function recognises that a file has been downloaded and will not re-download it. This is useful if you want to re-run the configuration file to add more data sources -- we will see this in action later.\n",
    "\n",
    "#### Adding multiple data sources\n",
    "\n",
    "Additional data sources can be added to the configuration file by adding a new key to the `target_sources` list. Below we have added sources from DEM, Landscape, SILO and SLGA collections. Copy the new lines and add them to `basic_config.yaml`:\n",
    "\n",
    "```yaml\n",
    "outpath: results_basic/\n",
    "target_bbox: [149.769345, -30.335861, 149.949173, -30.206271]\n",
    "target_res: 6.0\n",
    "date_min : 2022-10-01\n",
    "date_max : 2022-11-30\n",
    "target_sources:\n",
    "  DEA:\n",
    "  - landsat_barest_earth\n",
    "  # add the new lines below --------------------\n",
    "  DEM: [DEM]\n",
    "  Landscape: [Relief_300m]\n",
    "  SILO:\n",
    "    monthly_rain: [sum]\n",
    "  SLGA:\n",
    "    Bulk_Density: [0-5cm]\n",
    "    Clay: [0-5cm]\n",
    "```\n",
    "\n",
    "Let's run the above configuration file and preview the output data. You should already have the `DEA` data downloaded, so the function will only download the new data sources. This time, the argument `preview = True` will be added to the `harvest.run()` function, which will allow us to preview the data that will be downloaded."
   ]
  },
  {
   "cell_type": "code",
   "execution_count": 4,
   "id": "c2cc0153",
   "metadata": {},
   "outputs": [
    {
     "name": "stdout",
     "output_type": "stream",
     "text": [
      "\u001b[1m\u001b[35mStarting the data harvester -----\u001b[0m\n",
      "\u001b[35mℹ Found the following 1 sources: ['DEA']\u001b[0m\n",
      "\u001b[1m\u001b[35m\n",
      "Downloading from API sources -----\u001b[0m\n",
      "\u001b[1m\n",
      "⌛ Downloading DEA data...\u001b[0m\n",
      "\u001b[33m⚑ landsat_barest_earth.tif already exists, skipping download\u001b[0m\n"
     ]
    },
    {
     "data": {
      "image/png": "[encoded data removed]",
      "text/plain": [
       "<Figure size 1200x600 with 6 Axes>"
      ]
     },
     "metadata": {},
     "output_type": "display_data"
    },
    {
     "name": "stdout",
     "output_type": "stream",
     "text": [
      "\u001b[1m\u001b[35m\n",
      "🎉 🎉 🎉 Harvest complete 🎉 🎉 🎉\u001b[0m\n"
     ]
    }
   ],
   "source": [
    "harvest.run(\n",
    "    \"data/basic_config.yaml\", \n",
    "    log_name = \"multi_config\", \n",
    "    preview = True\n",
    ")"
   ]
  },
  {
   "cell_type": "markdown",
   "id": "5cf6701a",
   "metadata": {},
   "source": [
    "You should see a figure similar to the one above.\n",
    "Explore the `basic_results` folder that has been generated. Can you see the log file in there too?\n",
    "\n",
    "\n",
    "##  [{{< fa person-chalkboard >}} Google Earth Engine]{style=\"color: green;\"}\n",
    "\n",
    "\n",
    "::: {.callout-tip icon=\"false\"}\n",
    "## Agenda\n",
    "\n",
    "- Initialise and authorise our local computer with our GEE credentials.\n",
    "- Use the YAML configuration file to download data from Google Earth Engine (GEE)\n",
    "- Discuss GEE options in the YAML\n",
    "\n",
    ":::\n",
    "\n",
    "### Initialise GEE\n",
    "The first step is to make sure you have a Google Earth Engine account. If you had not already set one up with your Google account, [please follow these instructions](https://earthengine.google.com/signup/). In the next step we must do is authorise the geodata_harvester to use the Google Earth Engine API. This is a labourious step, but if you follow the prompts on screen 1-by-1 the process is okay. [See a preview of the process here](/pydocs/setup-gee.qmd). Then run the following code to do it for yourself:"
   ]
  },
  {
   "cell_type": "code",
   "execution_count": 5,
   "id": "1d7193d9",
   "metadata": {},
   "outputs": [
    {
     "name": "stdout",
     "output_type": "stream",
     "text": [
      "\u001b[35m⊙ Initialising Earth Engine...\u001b[0m 4.5s                                                                            \n",
      "\u001b[32m✔ Earth Engine authenticated\u001b[0m\n"
     ]
    }
   ],
   "source": [
    "from eeharvest import harvester\n",
    "harvester.initialise(auth_mode='notebook')"
   ]
  },
  {
   "cell_type": "markdown",
   "id": "bca6457f",
   "metadata": {},
   "source": [
    "**NOTE**: You only have to perform this authorisation ONCE. Or at least you only have to do it once per \"connection\" or if you use an icognito window.\n",
    "\n",
    "Now back to the content...\n",
    "\n",
    "### GEE YAML\n",
    "\n",
    "We will continue to use the same configuration file, `basic_config.yaml`, to download data from **Google Earth Engine**. Below, we add a new key to the `target_sources` list, called `GEE`. Here is a preview for how the YAML configuration file can be used download data from GEE.\n",
    "\n",
    "\n",
    "```yaml\n",
    "outpath: results_basic/\n",
    "target_bbox: [149.769345, -30.335861, 149.949173, -30.206271]\n",
    "target_res: 6.0\n",
    "date_min : 2022-10-01\n",
    "date_max : 2022-11-30\n",
    "target_sources:\n",
    "  DEA:\n",
    "  - landsat_barest_earth\n",
    "  DEM: [DEM]\n",
    "  Landscape: [Relief_300m]\n",
    "  SILO:\n",
    "    monthly_rain: [sum]\n",
    "  SLGA:\n",
    "    Bulk_Density: [0-5cm]\n",
    "    Clay: [0-5cm]\n",
    "  # add the new lines below --------------------\n",
    "  GEE:    \n",
    "    preprocess:\n",
    "      collection: LANDSAT/LC09/C02/T1_L2\n",
    "      coords: null\n",
    "      date: 2021-01-01\n",
    "      end_date: 2021-12-31\n",
    "      buffer: null\n",
    "      bound: null\n",
    "      mask_clouds: True\n",
    "      reduce: median\n",
    "      spectral: NDVI\n",
    "    download:\n",
    "      bands: NDVI\n",
    "      scale: 100\n",
    "      format: tif\n",
    "      overwrite: False\n",
    "infile: data/example-site_llara.csv\n",
    "colname_lat: Lat\n",
    "colname_lng: Long\n",
    "```\n",
    "The configuration will download Landsat 9 images for the year 2021, composite them all to a single image using the `median` reducer, and calculate the `NDVI` spectral index. The output image will be downloaded as a GeoTIFF file, with the `NDVI` spectral index and the RGB bands (`SR_B2`, `SR_B3`, `SR_B4`) includein the raster image.\n",
    "\n",
    "## [{{< fa keyboard >}} Exercise 1: Adding even more sources]{style=\"color: blue;\"}\n",
    "\n",
    "::: {.callout-note icon=\"false\"}\n",
    "## {{< fa keyboard >}} On your own\n",
    "\n",
    "Many different data layers are available for download as long as you know how to call their layer names. Refer to the [YAML Overview](/Settings_Overview.md) section and update the `basic_config.yaml` file to download the following data sources:\n",
    "\n",
    "- Slope and aspect -- both from the Landscape collection\n",
    "\n",
    "Then, run `harvest.run()` on the configuration file and preview the output.\n",
    "\n",
    ":::\n",
    "\n",
    "::: {.callout-caution icon=\"false\" collapse=\"true\"}\n",
    "## {{< fa keyboard >}} Solution\n",
    "\n",
    "```\n",
    "...\n",
    "Landscape: [Relief_300m, Slope, Aspect]  # <- edit this line\n",
    "...\n",
    "```\n",
    "\n",
    ":::\n",
    "\n",
    "## [{{< fa keyboard >}} Exercise 2: GEE]{style=\"color: blue;\"}\n",
    "\n",
    "::: {.callout-note icon=\"false\"}\n",
    "## {{< fa keyboard >}} On your own\n",
    "\n",
    "Let's download from a different data source by referring to the [Earth Engine Data Catalog](https://developers.google.com/earth-engine/datasets/catalog). Have a look at the different sections and tabs (Description\n",
    "Bands, Image Properties, Terms of Use).\n",
    "\n",
    "**Task**\n",
    "\n",
    "Change the `collection` attribute in `basic_config.yaml` to one of [Landsat](https://developers.google.com/earth-engine/datasets/catalog/landsat), [Sentinel](https://developers.google.com/earth-engine/datasets/catalog/sentinel) or [MODIS](https://developers.google.com/earth-engine/datasets/catalog/modis) **surface reflectance** collections. Then, run `harvest.run()` on the configuration file and preview the output.\n",
    "\n",
    "**Food for thought**\n",
    "\n",
    "- What happens when you provide an incorrect dataset name or band name?\n",
    "- Which other attribute(s) needed to be changed in the configuration file to download data from a different collection?\n",
    "\n",
    ":::\n",
    "\n",
    "\n",
    "::: {.callout-caution icon=\"false\" collapse=\"true\"}\n",
    "## {{< fa keyboard >}} Solution\n",
    "\n",
    "Note that this is one possible solution, out of many. Your instructor may discuss other possible solutions.\n",
    "\n",
    "```yaml\n",
    "outpath: results_final/\n",
    "target_bbox: [149.769345, -30.335861, 149.949173, -30.206271]\n",
    "target_res: 6.0\n",
    "date_min : 2022-10-01\n",
    "date_max : 2022-11-30\n",
    "\n",
    "target_sources:\n",
    "  DEA: [landsat_barest_earth]\n",
    "  DEM: [DEM]\n",
    "  Landscape: [Relief_300m, Slope, Aspect]\n",
    "  SILO:\n",
    "    monthly_rain: [sum]\n",
    "    max_temp: [sum]\n",
    "  SLGA:\n",
    "    Bulk_Density: [0-5cm]\n",
    "    Clay: [0-5cm]\n",
    "  GEE:\n",
    "    preprocess:\n",
    "      collection: COPERNICUS/S2_SR # edit from LANDSAT/LC09/C02/T1_L2\n",
    "      mask_clouds: true\n",
    "      reduce: median\n",
    "      spectral: [NDVI]\n",
    "    download:\n",
    "      bands: [NDVI]\n",
    "      scale: 100\n",
    "      format: tif\n",
    "      overwrite: false\n",
    "      \n",
    "infile: data/example-site_llara.csv\n",
    "colname_lat: Lat\n",
    "colname_lng: Long\n",
    "```\n",
    ":::"
   ]
  },
  {
   "cell_type": "markdown",
   "id": "d4016a17",
   "metadata": {},
   "source": [
    "## Wrapping up\n",
    "\n",
    "In this session we have covered setup and using the YAML configuration file to download from multiple API sources. In the [next session](/pydocs/p30-technical), we will cover how to use individual download functions to create custom workflows for downloading data.\n",
    "\n",
    "See you there!"
   ]
  }
 ],
 "metadata": {
  "kernelspec": {
   "display_name": "geodatatest",
   "language": "python",
   "name": "python3"
  },
  "language_info": {
   "codemirror_mode": {
    "name": "ipython",
    "version": 3
   },
   "file_extension": ".py",
   "mimetype": "text/x-python",
   "name": "python",
   "nbconvert_exporter": "python",
   "pygments_lexer": "ipython3",
   "version": "3.10.8"
  },
  "vscode": {
   "interpreter": {
    "hash": "2427be33fb37161d4873ebb2ebb28bafb993e171bf0c8b43db58fbbd3518e293"
   }
  }
 },
 "nbformat": 4,
 "nbformat_minor": 5
}
