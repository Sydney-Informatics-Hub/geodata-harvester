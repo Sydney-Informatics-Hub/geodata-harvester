{
 "cells": [
  {
   "cell_type": "markdown",
   "metadata": {},
   "source": [
    "GEODATA-HARVESTER WITH SETTINGS WIDGET\n",
    "--------------------------------------\n",
    "\n",
    "The Geodata-Harvester enables researchers with reusable workflows for automatic data extraction from a range of data sources including spatial-temporal processing into useable formats. User provided data is auto-completed with a suitable set of spatial- and temporal-aligned covariates as a ready-made dataset for machine learning and agriculture models. In addition, all requested data layer maps are automatically extracted and aligned for a specific region and time period.\n",
    "\n",
    "The main workflow of the Harvester is as follows:\n",
    "\n",
    "Options and user settings (e.g., data layer selections, spatial coverage, temporal constraints, i/o directory names) are defined by the user in the notebook settings menu or can be loaded with a settings yaml file (e.g., settings/settings_test). All settings are also saved in a yaml file for reusability.\n",
    "\n",
    "The notebook imports settings and all Python modules that include functionality to download and extract data for each data source. After settings are read in, checked, and processed into valid data retrieval (API) queries, all selected data layers are sequentially downloaded and then processed into a clean dataframe table and co-registered raster maps. The entire workflow can be run either completely automatically or individually by selecting only certain process parts in the Notebook.\n",
    "Additional data sources can be best added by writing the API handlers and extraction functionalities as separate Python module, which are then imported by the Notebook. Currently the following data sources are supported by the following modules:\n",
    "\n",
    "- 'getdata_slga.py': Soil Data from Soil and Landscape Grid of Australia (SLGA)\n",
    "- 'getdata_landscape': Landscape data from Soil and Landscape Grid of Australia (SLGA)\n",
    "- 'getdata_silo.py': Climate Data from SILO\n",
    "- 'getdata_dem.py: 'National Digital Elevation Model (DEM) 1 Second plus Slope and Apect calculation\n",
    "- 'getdata_dea_nci.py: 'Digital Earth Australia's (DEA) Geoscience Earth Observations via NCI server\n",
    "- 'getdata_dea.py: 'Digital Earth Australia's (DEA) Geoscience Earth Observations via Open Web Service server provided by DEA\n",
    "- 'getdata_radiometric.py': Geoscience Australia National Geophysical Compilation Sub-collection Radiometrics\n",
    "'eeharvest': Google Earth Engine API integration handler\n",
    "For more details. please see README and the Data Overview page.\n",
    "\n",
    "This notebook is part of the Data Harvester project developed for the Agricultural Research Federation (AgReFed).\n",
    "\n",
    "Copyright 2023 Sydney Informatics Hub (SIH), The University of Sydney"
   ]
  },
  {
   "cell_type": "markdown",
   "metadata": {},
   "source": [
    "### Import libraries"
   ]
  },
  {
   "cell_type": "code",
   "execution_count": 1,
   "metadata": {},
   "outputs": [],
   "source": [
    "import os\n",
    "import time\n",
    "from datetime import datetime\n",
    "from os.path import exists\n",
    "from pathlib import Path\n",
    "from types import SimpleNamespace\n",
    "\n",
    "# Import harvest function from geodata_harvester\n",
    "from geodata_harvester import harvest\n",
    "# Import widget library\n",
    "from geodata_harvester.widgets import harvesterwidgets as hw"
   ]
  },
  {
   "cell_type": "markdown",
   "metadata": {},
   "source": [
    "### Settings via interactive widget\n",
    "\n",
    "Set settings such as data-layer names, region, and dates in widget window. The widget window might take a few seconds to open in the notebook."
   ]
  },
  {
   "cell_type": "code",
   "execution_count": 2,
   "metadata": {
    "scrolled": true
   },
   "outputs": [
    {
     "data": {
      "application/vnd.jupyter.widget-view+json": {
       "model_id": "9ad5576f23ca4d85a6931e2a23762215",
       "version_major": 2,
       "version_minor": 0
      },
      "text/plain": [
       "Tab(children=(Accordion(children=(GridBox(children=(FileChooser(path='/Users/seb/CTDS/Projects/AgReFed/Harvest…"
      ]
     },
     "metadata": {},
     "output_type": "display_data"
    }
   ],
   "source": [
    "tab_nest, w_settings, names_settings, w_load = hw.gen_maintab()\n",
    "#Note: the display screen may take a couple of seconds more after loading\n",
    "time.sleep(2)\n",
    "display(tab_nest) "
   ]
  },
  {
   "cell_type": "markdown",
   "metadata": {},
   "source": [
    "### Evaluate and save settings as YAML file"
   ]
  },
  {
   "cell_type": "code",
   "execution_count": 3,
   "metadata": {},
   "outputs": [
    {
     "name": "stdout",
     "output_type": "stream",
     "text": [
      "Settings saved to file dataresults_example/settings_saved.yaml\n",
      "Settings loaded:\n",
      "----------------\n",
      "settings.infile : /Users/seb/CTDS/Projects/AgReFed/Harvester/geodata-harvester/notebooks/testdata/example-site_llara.csv\n",
      "settings.outpath : dataresults_example/\n",
      "settings.colname_lng : Long\n",
      "settings.colname_lat : Lat\n",
      "settings.target_bbox : [149.769345, -30.335861, 149.949173, -30.206271]\n",
      "settings.target_res : 3.0\n",
      "settings.date_min : 2022-01-01\n",
      "settings.temp_intervals : 1\n",
      "settings.date_max : 2022-01-31\n",
      "settings.temp_buffer : 1\n",
      "settings.target_sources:\n",
      "   'SLGA': {'Bulk_Density': ['0-5cm'], 'Organic_Carbon': ['0-5cm']}\n",
      "   'SILO': {'monthly_rain': ['median']}\n",
      "   'DEA': ['ls8_barest_earth_mosaic']\n",
      "   'DEM': ['DEM']\n",
      "   'Radiometric': ['radmap2019_grid_dose_terr_awags_rad_2019']\n",
      "   'Landscape': ['Slope', 'Aspect']\n",
      "   'GEE': {'preprocess': {'collection': ['LANDSAT/LC08/C02/T1_L2'], 'spectral': 'NDVI', 'reduce': 'median', 'mask_clouds': True, 'mask_probability': None}, 'download': {'bands': 'NDVI'}}\n"
     ]
    }
   ],
   "source": [
    "if w_load.value == None:\n",
    "    dict_settings = hw.eval_widgets(w_settings, names_settings)\n",
    "    # Convert settings from dictionary to SimpleNamespace (so all settings names available as settings.xxxname)\n",
    "    settings = SimpleNamespace(**dict_settings)\n",
    "    # Check if output path exists, if not create it:\n",
    "    os.makedirs(settings.outpath, exist_ok=True) \n",
    "    # Save settings to yaml file:\n",
    "    fname_settings = os.path.join(settings.outpath, 'settings_saved.yaml')\n",
    "    hw.save_dict_settings(dict_settings, fname_settings)\n",
    "else:\n",
    "    print(f'Settings loaded from {w_load.value}')\n",
    "    settings = hw.load_settings(w_load.value)\n",
    "# Print settings\n",
    "hw.print_settings(settings)"
   ]
  },
  {
   "cell_type": "markdown",
   "metadata": {},
   "source": [
    "### Harvest\n",
    "\n",
    "The harvest function executes automatically all download and processing steps for all data layers from the web as specified in settings file above.\n",
    "Filenames of the processed files and some metadata is saved in a dataframe df."
   ]
  },
  {
   "cell_type": "code",
   "execution_count": 4,
   "metadata": {
    "scrolled": false
   },
   "outputs": [
    {
     "name": "stdout",
     "output_type": "stream",
     "text": [
      "\u001b[1m\u001b[35mStarting the data harvester -----\u001b[0m\n",
      "\u001b[35mℹ Found the following 7 sources: ['DEA', 'DEM', 'GEE', 'Landscape', 'Radiometric', 'SILO', 'SLGA']\u001b[0m\n",
      "\u001b[1m\u001b[35m\n",
      "Downloading from API sources -----\u001b[0m\n",
      "\u001b[35m⊙ Initialising Earth Engine...\u001b[0m 4.2s                                                                            \n",
      "\u001b[32m✔ Done\u001b[0m\n",
      "\u001b[1m\n",
      "⌛ Downloading Google Earth Engine data...\u001b[0m\n",
      "\u001b[1m\u001b[36mRunning preprocess() -----\u001b[0m\n",
      "\u001b[35mℹ Number of image(s) found: 2\u001b[0m\n",
      "\u001b[35m⊙ Applying scale, offset and cloud masks...\u001b[0m 1.3s                                                               \n",
      "\u001b[35m⊙ Calculating spectral indices: NDVI...\u001b[0m 1.1s                                                                   \n",
      "\u001b[32m✔ Preprocessing complete\u001b[0m\n",
      "\u001b[1m\u001b[36mRunning download() -----\u001b[0m\n",
      "\u001b[35mℹ Band(s) selected: ['NDVI_median']\u001b[0m\n",
      "\u001b[35mℹ Setting scale to ~80.1m, converted from 3.0 arcsec at latitude -30.27\u001b[0m\n",
      "\u001b[35mℹ Setting download dir to dataresults_example/\u001b[0m\n",
      "\u001b[35m⊙ Downloading ee_LANDSAT_4248c388.tif\u001b[0m 5.1s                                                                     \n",
      "\u001b[32m✔ Google Earth Engine download(s) complete\u001b[0m\n",
      "\u001b[1m\n",
      "⌛ Downloading DEA data...\u001b[0m\n",
      "\u001b[35m⊙ Downloading ls8_barest_earth_mosaic.tif for None\u001b[0m 4.1s                                                        \n",
      "\u001b[1m\n",
      "⌛ Downloading DEM data...\u001b[0m\n",
      "\u001b[35m⊙ Retrieving coverage from WCS server\u001b[0m 1.3s                                                                     \n",
      "\u001b[35m⊙ Downloading DEM_SRTM_1_Second_Hydro_Enforced_2023_02_16.tif\u001b[0m 1.6s                                             \n",
      "\u001b[1m\n",
      "⌛ Downloading Landscape data...\u001b[0m\n",
      "\u001b[35m⊙ Downloading Landscape_Slope.tif\u001b[0m 7.3s                                                                         \n",
      "\u001b[35m⊙ Downloading Landscape_Aspect.tif\u001b[0m 6.0s                                                                        \n",
      "\u001b[1m\n",
      "⌛ Downloading Radiometric data...\u001b[0m\n",
      "\u001b[35m⊙ Downloading radmap2019_grid_dose_terr_awags_rad_2019\u001b[0m 2.1s                                                    \n",
      "\u001b[1m\n",
      "⌛ Downloading SILO data...\u001b[0m\n",
      "\u001b[35m⊙ Downloading monthly_rain for 2022\u001b[0m 1.2s                                                                       \n",
      "\u001b[1m\n",
      "⌛ Downloading SLGA data...\u001b[0m\n",
      "\u001b[35m⊙ Downloading SLGA_Bulk_Density_0-5cm.tif\u001b[0m 12.0s                                                                \n",
      "\u001b[35m⊙ Downloading SLGA_Bulk_Density_0-5cm_5percentile.tif\u001b[0m 1.9s                                                     \n",
      "\u001b[35m⊙ Downloading SLGA_Bulk_Density_0-5cm_95percentile.tif\u001b[0m 1.2s                                                    \n",
      "\u001b[35m⊙ Downloading SLGA_Organic_Carbon_0-5cm.tif\u001b[0m (!) 0.1s \n",
      "<html><head><title>ArcGIS Server Error</title><style><!--H1 {font-family:Tahoma,Arial,sans-serif;color:white;background-color:#525D76;font-size:22px;} H2 {font-family:Tahoma,Arial,sans-serif;color:white;background-color:#525D76;font-size:16px;} H3 {font-family:Tahoma,Arial,sans-serif;color:white;background-color:#525D76;font-size:14px;} BODY {font-family:Tahoma,Arial,sans-serif;color:black;background-color:white;} B {font-family:Tahoma,Arial,sans-serif;color:white;background-color:#525D76;} P {font-family:Tahoma,Arial,sans-serif;background:white;color:black;font-size:12px;}A {color : black;}A.name {color : black;}HR {color : #525D76;}--></style> </head><body><h1>Error occurred while processing request</h1><HR size=\"1\" noshade=\"noshade\"><p><b>Type:</b> Status Report</p><p><b>Message:</b> <u></u></p><p><b>Description:</b> <u>http.400:</u></p><HR size=\"1\" noshade=\"noshade\"><h3>ArcGIS Server</h3></body></html>\n",
      "\u001b[1m\u001b[35m\n",
      "Extracting data points for example-site_llara.csv  -----\u001b[0m\n",
      "\u001b[34m⊙ • ee_LANDSAT_4248c388 | pixel size: (181, 251)\u001b[0m 0.5s                                                          \n",
      "\u001b[34m⊙ • ls8_barest_earth_mosaic | pixel size: (155, 215)\u001b[0m 0.0s                                                      \n",
      "\u001b[34m⊙ • DEM_SRTM_1_Second_Hydro_Enforced_2023_02_16 | pixel size: (156, 216)\u001b[0m 0.0s                                  \n",
      "\u001b[34m⊙ • Landscape_Slope | pixel size: (156, 216)\u001b[0m 0.0s                                                              \n",
      "\u001b[34m⊙ • Landscape_Aspect | pixel size: (156, 216)\u001b[0m 0.0s                                                             \n",
      "\u001b[34m⊙ • radiometric_radmap2019_grid_dose_terr_awags_rad_2019 | pixel size: (466, 647)\u001b[0m 0.0s                         \n",
      "\u001b[34m⊙ • silo_monthly_rain_2022-01-01-2022-01-31 | pixel size: (2, 3)\u001b[0m 0.0s                                          \n",
      "\u001b[35m✔ Data points extracted to dataresults_example/results.gpkg\u001b[0m\n",
      "\u001b[1m\u001b[35m\n",
      "🎉 🎉 🎉 Harvest complete 🎉 🎉 🎉\u001b[0m\n"
     ]
    }
   ],
   "source": [
    "df = harvest.run(fname_settings, return_df = True)"
   ]
  },
  {
   "cell_type": "markdown",
   "metadata": {},
   "source": [
    "### Inspect result dataframe"
   ]
  },
  {
   "cell_type": "code",
   "execution_count": 5,
   "metadata": {},
   "outputs": [
    {
     "data": {
      "text/html": [
       "<div>\n",
       "<style scoped>\n",
       "    .dataframe tbody tr th:only-of-type {\n",
       "        vertical-align: middle;\n",
       "    }\n",
       "\n",
       "    .dataframe tbody tr th {\n",
       "        vertical-align: top;\n",
       "    }\n",
       "\n",
       "    .dataframe thead th {\n",
       "        text-align: right;\n",
       "    }\n",
       "</style>\n",
       "<table border=\"1\" class=\"dataframe\">\n",
       "  <thead>\n",
       "    <tr style=\"text-align: right;\">\n",
       "      <th></th>\n",
       "      <th>Longitude</th>\n",
       "      <th>Latitude</th>\n",
       "      <th>geometry</th>\n",
       "      <th>ee_LANDSAT_4248c388_median</th>\n",
       "      <th>ls8_barest_earth_mosaic</th>\n",
       "      <th>DEM</th>\n",
       "      <th>landscape_Slope</th>\n",
       "      <th>landscape_Aspect</th>\n",
       "      <th>radmap2019_grid_dose_terr_awags_rad_2019</th>\n",
       "      <th>monthly_rain_median</th>\n",
       "    </tr>\n",
       "  </thead>\n",
       "  <tbody>\n",
       "    <tr>\n",
       "      <th>0</th>\n",
       "      <td>149.852680</td>\n",
       "      <td>-30.264663</td>\n",
       "      <td>POINT (149.85268 -30.26466)</td>\n",
       "      <td>0.239018</td>\n",
       "      <td>948</td>\n",
       "      <td>245.135803</td>\n",
       "      <td>1.052722</td>\n",
       "      <td>189.684097</td>\n",
       "      <td>33.151680</td>\n",
       "      <td>80.599854</td>\n",
       "    </tr>\n",
       "    <tr>\n",
       "      <th>1</th>\n",
       "      <td>149.884838</td>\n",
       "      <td>-30.265302</td>\n",
       "      <td>POINT (149.88484 -30.26530)</td>\n",
       "      <td>0.077492</td>\n",
       "      <td>1023</td>\n",
       "      <td>263.777679</td>\n",
       "      <td>1.554277</td>\n",
       "      <td>281.077698</td>\n",
       "      <td>35.969486</td>\n",
       "      <td>74.300049</td>\n",
       "    </tr>\n",
       "    <tr>\n",
       "      <th>2</th>\n",
       "      <td>149.884838</td>\n",
       "      <td>-30.265302</td>\n",
       "      <td>POINT (149.88484 -30.26530)</td>\n",
       "      <td>0.077492</td>\n",
       "      <td>1023</td>\n",
       "      <td>263.777679</td>\n",
       "      <td>1.554277</td>\n",
       "      <td>281.077698</td>\n",
       "      <td>35.969486</td>\n",
       "      <td>74.300049</td>\n",
       "    </tr>\n",
       "    <tr>\n",
       "      <th>3</th>\n",
       "      <td>149.838791</td>\n",
       "      <td>-30.278542</td>\n",
       "      <td>POINT (149.83879 -30.27854)</td>\n",
       "      <td>0.215485</td>\n",
       "      <td>1095</td>\n",
       "      <td>233.248428</td>\n",
       "      <td>0.920433</td>\n",
       "      <td>242.743683</td>\n",
       "      <td>29.618393</td>\n",
       "      <td>87.199951</td>\n",
       "    </tr>\n",
       "    <tr>\n",
       "      <th>4</th>\n",
       "      <td>149.830843</td>\n",
       "      <td>-30.275437</td>\n",
       "      <td>POINT (149.83084 -30.27544)</td>\n",
       "      <td>0.110641</td>\n",
       "      <td>1153</td>\n",
       "      <td>230.523056</td>\n",
       "      <td>1.062537</td>\n",
       "      <td>267.301697</td>\n",
       "      <td>25.061012</td>\n",
       "      <td>87.199951</td>\n",
       "    </tr>\n",
       "  </tbody>\n",
       "</table>\n",
       "</div>"
      ],
      "text/plain": [
       "    Longitude   Latitude                     geometry  \\\n",
       "0  149.852680 -30.264663  POINT (149.85268 -30.26466)   \n",
       "1  149.884838 -30.265302  POINT (149.88484 -30.26530)   \n",
       "2  149.884838 -30.265302  POINT (149.88484 -30.26530)   \n",
       "3  149.838791 -30.278542  POINT (149.83879 -30.27854)   \n",
       "4  149.830843 -30.275437  POINT (149.83084 -30.27544)   \n",
       "\n",
       "   ee_LANDSAT_4248c388_median  ls8_barest_earth_mosaic         DEM  \\\n",
       "0                    0.239018                      948  245.135803   \n",
       "1                    0.077492                     1023  263.777679   \n",
       "2                    0.077492                     1023  263.777679   \n",
       "3                    0.215485                     1095  233.248428   \n",
       "4                    0.110641                     1153  230.523056   \n",
       "\n",
       "   landscape_Slope  landscape_Aspect  \\\n",
       "0         1.052722        189.684097   \n",
       "1         1.554277        281.077698   \n",
       "2         1.554277        281.077698   \n",
       "3         0.920433        242.743683   \n",
       "4         1.062537        267.301697   \n",
       "\n",
       "   radmap2019_grid_dose_terr_awags_rad_2019  monthly_rain_median  \n",
       "0                                 33.151680            80.599854  \n",
       "1                                 35.969486            74.300049  \n",
       "2                                 35.969486            74.300049  \n",
       "3                                 29.618393            87.199951  \n",
       "4                                 25.061012            87.199951  "
      ]
     },
     "execution_count": 5,
     "metadata": {},
     "output_type": "execute_result"
    }
   ],
   "source": [
    "# Inspect either entire generated dataframe with \n",
    "# df\n",
    "# or only the first rows with\n",
    "df.head()"
   ]
  }
 ],
 "metadata": {
  "kernelspec": {
   "display_name": "Python 3 (ipykernel)",
   "language": "python",
   "name": "python3"
  },
  "language_info": {
   "codemirror_mode": {
    "name": "ipython",
    "version": 3
   },
   "file_extension": ".py",
   "mimetype": "text/x-python",
   "name": "python",
   "nbconvert_exporter": "python",
   "pygments_lexer": "ipython3",
   "version": "3.10.8"
  },
  "vscode": {
   "interpreter": {
    "hash": "2427be33fb37161d4873ebb2ebb28bafb993e171bf0c8b43db58fbbd3518e293"
   }
  }
 },
 "nbformat": 4,
 "nbformat_minor": 2
}
