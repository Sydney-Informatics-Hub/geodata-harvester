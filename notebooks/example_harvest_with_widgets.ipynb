{
 "cells": [
  {
   "cell_type": "markdown",
   "metadata": {},
   "source": [
    "GEODATA-HARVESTER WITH SETTINGS WIDGET\n",
    "--------------------------------------\n",
    "\n",
    "The Geodata-Harvester enables researchers with reusable workflows for automatic data extraction from a range of data sources including spatial-temporal processing into useable formats. User provided data is auto-completed with a suitable set of spatial- and temporal-aligned covariates as a ready-made dataset for machine learning and agriculture models. In addition, all requested data layer maps are automatically extracted and aligned for a specific region and time period.\n",
    "\n",
    "The main workflow of the Harvester is as follows:\n",
    "\n",
    "Options and user settings (e.g., data layer selections, spatial coverage, temporal constraints, i/o directory names) are defined by the user in the notebook settings menu or can be loaded with a settings yaml file (e.g., settings/settings_test). All settings are also saved in a yaml file for reusability.\n",
    "\n",
    "The notebook imports settings and all Python modules that include functionality to download and extract data for each data source. After settings are read in, checked, and processed into valid data retrieval (API) queries, all selected data layers are sequentially downloaded and then processed into a clean dataframe table and co-registered raster maps. The entire workflow can be run either completely automatically or individually by selecting only certain process parts in the Notebook.\n",
    "Additional data sources can be best added by writing the API handlers and extraction functionalities as separate Python module, which are then imported by the Notebook. Currently the following data sources are supported by the following modules:\n",
    "\n",
    "- 'getdata_slga.py': Soil Data from Soil and Landscape Grid of Australia (SLGA)\n",
    "- 'getdata_landscape': Landscape data from Soil and Landscape Grid of Australia (SLGA)\n",
    "- 'getdata_silo.py': Climate Data from SILO\n",
    "- 'getdata_dem.py: 'National Digital Elevation Model (DEM) 1 Second plus Slope and Apect calculation\n",
    "- 'getdata_dea_nci.py: 'Digital Earth Australia's (DEA) Geoscience Earth Observations via NCI server\n",
    "- 'getdata_dea.py: 'Digital Earth Australia's (DEA) Geoscience Earth Observations via Open Web Service server provided by DEA\n",
    "- 'getdata_radiometric.py': Geoscience Australia National Geophysical Compilation Sub-collection Radiometrics\n",
    "'eeharvest': Google Earth Engine API integration handler\n",
    "For more details. please see README and the Data Overview page.\n",
    "\n",
    "This notebook is part of the Data Harvester project developed for the Agricultural Research Federation (AgReFed).\n",
    "\n",
    "Copyright 2023 Sydney Informatics Hub (SIH), The University of Sydney"
   ]
  },
  {
   "cell_type": "markdown",
   "metadata": {},
   "source": [
    "### Import libraries"
   ]
  },
  {
   "cell_type": "code",
   "execution_count": 1,
   "metadata": {},
   "outputs": [],
   "source": [
    "import os\n",
    "import time\n",
    "from datetime import datetime\n",
    "from os.path import exists\n",
    "from pathlib import Path\n",
    "from types import SimpleNamespace\n",
    "\n",
    "# Import harvest function from geodata_harvester\n",
    "from geodata_harvester import harvest\n",
    "# Import widget library\n",
    "from geodata_harvester.widgets import harvesterwidgets as hw"
   ]
  },
  {
   "cell_type": "markdown",
   "metadata": {},
   "source": [
    "### Settings via interactive widget\n",
    "\n",
    "Set settings such as data-layer names, region, and dates in widget window. The widget window might take a few seconds to open in the notebook."
   ]
  },
  {
   "cell_type": "code",
   "execution_count": 2,
   "metadata": {
    "scrolled": true
   },
   "outputs": [
    {
     "data": {
      "application/vnd.jupyter.widget-view+json": {
       "model_id": "24ff9792b6be4113b3908fd99d1d24dd",
       "version_major": 2,
       "version_minor": 0
      },
      "text/plain": [
       "Tab(children=(Accordion(children=(GridBox(children=(FileChooser(path='/Users/seb/CTDS/Projects/AgReFed/Harvest…"
      ]
     },
     "metadata": {},
     "output_type": "display_data"
    }
   ],
   "source": [
    "tab_nest, w_settings, names_settings, w_load = hw.gen_maintab()\n",
    "#Note: the display screen may take a couple of seconds more after loading\n",
    "time.sleep(2)\n",
    "display(tab_nest) "
   ]
  },
  {
   "cell_type": "markdown",
   "metadata": {},
   "source": [
    "### Evaluate and save settings as YAML file"
   ]
  },
  {
   "cell_type": "code",
   "execution_count": 7,
   "metadata": {},
   "outputs": [
    {
     "name": "stdout",
     "output_type": "stream",
     "text": [
      "Settings saved to file test_widgets/settings_saved.yaml\n",
      "Settings loaded:\n",
      "----------------\n",
      "settings.infile : /Users/seb/CTDS/Projects/AgReFed/Harvester/geodata-harvester/notebooks/testdata/example-site_llara.csv\n",
      "settings.outpath : test_widgets\n",
      "settings.colname_lng : Long\n",
      "settings.colname_lat : Lat\n",
      "settings.target_bbox : [149.769345, -30.335861, 149.949173, -30.206271]\n",
      "settings.target_res : 6.000000000000001\n",
      "settings.date_min : 2023-01-01\n",
      "settings.temp_intervals : 2\n",
      "settings.date_max : 2023-01-10\n",
      "settings.temp_buffer : 1\n",
      "settings.target_sources:\n",
      "   'SLGA': {'Bulk_Density': ['0-5cm']}\n",
      "   'SILO': {'monthly_rain': ['median']}\n",
      "   'DEA': ['s2_barest_earth']\n",
      "   'DEM': ['DEM']\n",
      "   'Radiometric': ['radmap2019_grid_dose_terr_awags_rad_2019']\n",
      "   'Landscape': ['Slope']\n",
      "   'GEE': {'preprocess': {'collection': 'LANDSAT/LC08/C02/T1_L2', 'spectral': 'NDVI', 'reduce': 'median', 'mask_clouds': True, 'mask_probability': None}, 'download': {'bands': ['7', '8']}}\n"
     ]
    }
   ],
   "source": [
    "if w_load.value == None:\n",
    "    dict_settings = hw.eval_widgets(w_settings, names_settings)\n",
    "    # Convert settings from dictionary to SimpleNamespace (so all settings names available as settings.xxxname)\n",
    "    settings = SimpleNamespace(**dict_settings)\n",
    "    # Check if output path exists, if not create it:\n",
    "    os.makedirs(settings.outpath, exist_ok=True) \n",
    "    # Save settings to yaml file:\n",
    "    fname_settings = os.path.join(settings.outpath, 'settings_saved.yaml')\n",
    "    hw.save_dict_settings(dict_settings, fname_settings)\n",
    "else:\n",
    "    print(f'Settings loaded from {w_load.value}')\n",
    "    settings = hw.load_settings(w_load.value)\n",
    "# Print settings\n",
    "hw.print_settings(settings)"
   ]
  },
  {
   "cell_type": "markdown",
   "metadata": {},
   "source": [
    "### Harvest\n",
    "\n",
    "The harvest function executes automatically all download and processing steps for all data layers from the web as specified in settings file above.\n",
    "Filenames of the processed files and some metadata is saved in a dataframe df."
   ]
  },
  {
   "cell_type": "code",
   "execution_count": 11,
   "metadata": {
    "scrolled": false
   },
   "outputs": [
    {
     "name": "stdout",
     "output_type": "stream",
     "text": [
      "\u001b[1m\u001b[35mStarting the data harvester -----\u001b[0m\n",
      "\u001b[35mℹ Found the following 7 sources: ['DEA', 'DEM', 'GEE', 'Landscape', 'Radiometric', 'SILO', 'SLGA']\u001b[0m\n",
      "\u001b[1m\u001b[35m\n",
      "Downloading from API sources -----\u001b[0m\n",
      "\u001b[31m⚑ Earth Engine API already authenticated\u001b[0m\n",
      "\u001b[1m\n",
      "⌛ Downloading Google Earth Engine data...\u001b[0m\n",
      "\u001b[32m✔ YAML schema validated\u001b[0m\n",
      "\u001b[1m\u001b[36mRunning preprocess() -----\u001b[0m\n",
      "\u001b[35m⊙ Applying scale, offset and cloud masks...\u001b[0m 2.1s                                                               \n",
      "\u001b[35m⊙ Calculating spectral indices: NDVI...\u001b[0m 0.9s                                                                   \n",
      "\u001b[35m⊙ Reducing image pixels by median\u001b[0m 0.0s                                                                         \n",
      "\u001b[32m✔ Preprocessing complete\u001b[0m\n",
      "\u001b[1m\u001b[36mRunning download() -----\u001b[0m\n",
      "\u001b[35mℹ Band(s) selected: NDVI\u001b[0m\n",
      "\u001b[35mℹ Setting scale to ~160.2m, converted from 6.000000000000001 arcsec at latitude -30.27\u001b[0m\n",
      "\u001b[35mℹ Setting download dir to test_widgets\u001b[0m\n",
      "\u001b[35m⊙ Downloading ee_LANDSAT_e3314e4b.tif\u001b[0m (!) 0.7s \n"
     ]
    },
    {
     "ename": "EEException",
     "evalue": "Image.select: Pattern 'NDVI' did not match any bands.",
     "output_type": "error",
     "traceback": [
      "\u001b[0;31m---------------------------------------------------------------------------\u001b[0m",
      "\u001b[0;31mHttpError\u001b[0m                                 Traceback (most recent call last)",
      "File \u001b[0;32m~/mambaforge/envs/geodatatest/lib/python3.10/site-packages/ee/data.py:326\u001b[0m, in \u001b[0;36m_execute_cloud_call\u001b[0;34m(call, num_retries)\u001b[0m\n\u001b[1;32m    325\u001b[0m \u001b[38;5;28;01mtry\u001b[39;00m:\n\u001b[0;32m--> 326\u001b[0m   \u001b[38;5;28;01mreturn\u001b[39;00m \u001b[43mcall\u001b[49m\u001b[38;5;241;43m.\u001b[39;49m\u001b[43mexecute\u001b[49m\u001b[43m(\u001b[49m\u001b[43mnum_retries\u001b[49m\u001b[38;5;241;43m=\u001b[39;49m\u001b[43mnum_retries\u001b[49m\u001b[43m)\u001b[49m\n\u001b[1;32m    327\u001b[0m \u001b[38;5;28;01mexcept\u001b[39;00m googleapiclient\u001b[38;5;241m.\u001b[39merrors\u001b[38;5;241m.\u001b[39mHttpError \u001b[38;5;28;01mas\u001b[39;00m e:\n",
      "File \u001b[0;32m~/mambaforge/envs/geodatatest/lib/python3.10/site-packages/googleapiclient/_helpers.py:130\u001b[0m, in \u001b[0;36mpositional.<locals>.positional_decorator.<locals>.positional_wrapper\u001b[0;34m(*args, **kwargs)\u001b[0m\n\u001b[1;32m    129\u001b[0m         logger\u001b[38;5;241m.\u001b[39mwarning(message)\n\u001b[0;32m--> 130\u001b[0m \u001b[38;5;28;01mreturn\u001b[39;00m \u001b[43mwrapped\u001b[49m\u001b[43m(\u001b[49m\u001b[38;5;241;43m*\u001b[39;49m\u001b[43margs\u001b[49m\u001b[43m,\u001b[49m\u001b[43m \u001b[49m\u001b[38;5;241;43m*\u001b[39;49m\u001b[38;5;241;43m*\u001b[39;49m\u001b[43mkwargs\u001b[49m\u001b[43m)\u001b[49m\n",
      "File \u001b[0;32m~/mambaforge/envs/geodatatest/lib/python3.10/site-packages/googleapiclient/http.py:938\u001b[0m, in \u001b[0;36mHttpRequest.execute\u001b[0;34m(self, http, num_retries)\u001b[0m\n\u001b[1;32m    937\u001b[0m \u001b[38;5;28;01mif\u001b[39;00m resp\u001b[38;5;241m.\u001b[39mstatus \u001b[38;5;241m>\u001b[39m\u001b[38;5;241m=\u001b[39m \u001b[38;5;241m300\u001b[39m:\n\u001b[0;32m--> 938\u001b[0m     \u001b[38;5;28;01mraise\u001b[39;00m HttpError(resp, content, uri\u001b[38;5;241m=\u001b[39m\u001b[38;5;28mself\u001b[39m\u001b[38;5;241m.\u001b[39muri)\n\u001b[1;32m    939\u001b[0m \u001b[38;5;28;01mreturn\u001b[39;00m \u001b[38;5;28mself\u001b[39m\u001b[38;5;241m.\u001b[39mpostproc(resp, content)\n",
      "\u001b[0;31mHttpError\u001b[0m: <HttpError 400 when requesting https://earthengine.googleapis.com/v1alpha/projects/earthengine-legacy/value:compute?prettyPrint=false&alt=json returned \"Image.select: Pattern 'NDVI' did not match any bands.\". Details: \"Image.select: Pattern 'NDVI' did not match any bands.\">",
      "\nDuring handling of the above exception, another exception occurred:\n",
      "\u001b[0;31mEEException\u001b[0m                               Traceback (most recent call last)",
      "Cell \u001b[0;32mIn[11], line 1\u001b[0m\n\u001b[0;32m----> 1\u001b[0m df \u001b[38;5;241m=\u001b[39m \u001b[43mharvest\u001b[49m\u001b[38;5;241;43m.\u001b[39;49m\u001b[43mrun\u001b[49m\u001b[43m(\u001b[49m\u001b[43mfname_settings\u001b[49m\u001b[43m,\u001b[49m\u001b[43m \u001b[49m\u001b[43mreturn_df\u001b[49m\u001b[43m \u001b[49m\u001b[38;5;241;43m=\u001b[39;49m\u001b[43m \u001b[49m\u001b[38;5;28;43;01mTrue\u001b[39;49;00m\u001b[43m)\u001b[49m\n",
      "File \u001b[0;32m~/mambaforge/envs/geodatatest/lib/python3.10/site-packages/geodata_harvester/harvest.py:110\u001b[0m, in \u001b[0;36mrun\u001b[0;34m(path_to_config, log_name, preview, return_df)\u001b[0m\n\u001b[1;32m    104\u001b[0m cprint(\u001b[38;5;124m\"\u001b[39m\u001b[38;5;130;01m\\n\u001b[39;00m\u001b[38;5;124m⌛ Downloading Google Earth Engine data...\u001b[39m\u001b[38;5;124m\"\u001b[39m, attrs\u001b[38;5;241m=\u001b[39m[\u001b[38;5;124m\"\u001b[39m\u001b[38;5;124mbold\u001b[39m\u001b[38;5;124m\"\u001b[39m])\n\u001b[1;32m    105\u001b[0m \u001b[38;5;66;03m# get data from GEE with eeharvest\u001b[39;00m\n\u001b[1;32m    106\u001b[0m \u001b[38;5;66;03m#gee = eeharvester.collect(config=path_to_config)\u001b[39;00m\n\u001b[1;32m    107\u001b[0m \u001b[38;5;66;03m#gee.preprocess()\u001b[39;00m\n\u001b[1;32m    108\u001b[0m \u001b[38;5;66;03m#gee.download()\u001b[39;00m\n\u001b[1;32m    109\u001b[0m \u001b[38;5;66;03m# use auto function to download and preprocess\u001b[39;00m\n\u001b[0;32m--> 110\u001b[0m gee \u001b[38;5;241m=\u001b[39m \u001b[43meeharvester\u001b[49m\u001b[38;5;241;43m.\u001b[39;49m\u001b[43mauto\u001b[49m\u001b[43m(\u001b[49m\u001b[43mconfig\u001b[49m\u001b[38;5;241;43m=\u001b[39;49m\u001b[43mpath_to_config\u001b[49m\u001b[43m)\u001b[49m\n\u001b[1;32m    111\u001b[0m outfnames \u001b[38;5;241m=\u001b[39m [settings\u001b[38;5;241m.\u001b[39moutpath \u001b[38;5;241m+\u001b[39m gee\u001b[38;5;241m.\u001b[39mfilenames]\n\u001b[1;32m    112\u001b[0m layernames \u001b[38;5;241m=\u001b[39m [Path(gee\u001b[38;5;241m.\u001b[39mfilenames)\u001b[38;5;241m.\u001b[39mresolve()\u001b[38;5;241m.\u001b[39mstem]\n",
      "File \u001b[0;32m~/mambaforge/envs/geodatatest/lib/python3.10/site-packages/eeharvest/harvester.py:512\u001b[0m, in \u001b[0;36mauto\u001b[0;34m(config, outpath)\u001b[0m\n\u001b[1;32m    510\u001b[0m img\u001b[38;5;241m.\u001b[39mpreprocess()\n\u001b[1;32m    511\u001b[0m \u001b[38;5;28;01mif\u001b[39;00m outpath \u001b[38;5;129;01mis\u001b[39;00m \u001b[38;5;28;01mNone\u001b[39;00m:\n\u001b[0;32m--> 512\u001b[0m     \u001b[43mimg\u001b[49m\u001b[38;5;241;43m.\u001b[39;49m\u001b[43mdownload\u001b[49m\u001b[43m(\u001b[49m\u001b[43m)\u001b[49m\n\u001b[1;32m    513\u001b[0m \u001b[38;5;28;01melse\u001b[39;00m:\n\u001b[1;32m    514\u001b[0m     img\u001b[38;5;241m.\u001b[39mdownload(outpath\u001b[38;5;241m=\u001b[39moutpath)\n",
      "File \u001b[0;32m~/mambaforge/envs/geodatatest/lib/python3.10/site-packages/eeharvest/harvester.py:497\u001b[0m, in \u001b[0;36mcollect.download\u001b[0;34m(self, bands, scale, outpath, overwrite, **kwargs)\u001b[0m\n\u001b[1;32m    495\u001b[0m final_destination \u001b[38;5;241m=\u001b[39m os\u001b[38;5;241m.\u001b[39mpath\u001b[38;5;241m.\u001b[39mjoin(utils\u001b[38;5;241m.\u001b[39m_generate_dir(outpath), filename)\n\u001b[1;32m    496\u001b[0m msg\u001b[38;5;241m.\u001b[39minfo(\u001b[38;5;124mf\u001b[39m\u001b[38;5;124m\"\u001b[39m\u001b[38;5;124mSetting download dir to \u001b[39m\u001b[38;5;132;01m{\u001b[39;00moutpath\u001b[38;5;132;01m}\u001b[39;00m\u001b[38;5;124m\"\u001b[39m)\n\u001b[0;32m--> 497\u001b[0m filenames \u001b[38;5;241m=\u001b[39m \u001b[43mdownload_tif\u001b[49m\u001b[43m(\u001b[49m\n\u001b[1;32m    498\u001b[0m \u001b[43m    \u001b[49m\u001b[43mimg\u001b[49m\u001b[43m,\u001b[49m\u001b[43m \u001b[49m\u001b[43maoi\u001b[49m\u001b[43m,\u001b[49m\u001b[43m \u001b[49m\u001b[43mfinal_destination\u001b[49m\u001b[43m,\u001b[49m\u001b[43m \u001b[49m\u001b[43mscale\u001b[49m\u001b[43m,\u001b[49m\u001b[43m \u001b[49m\u001b[43moverwrite\u001b[49m\u001b[38;5;241;43m=\u001b[39;49m\u001b[43moverwrite\u001b[49m\n\u001b[1;32m    499\u001b[0m \u001b[43m\u001b[49m\u001b[43m)\u001b[49m\n\u001b[1;32m    500\u001b[0m msg\u001b[38;5;241m.\u001b[39msuccess(\u001b[38;5;124m\"\u001b[39m\u001b[38;5;124mGoogle Earth Engine download(s) complete\u001b[39m\u001b[38;5;124m\"\u001b[39m)\n\u001b[1;32m    501\u001b[0m \u001b[38;5;66;03m# Housekeeping\u001b[39;00m\n",
      "File \u001b[0;32m~/mambaforge/envs/geodatatest/lib/python3.10/site-packages/eeharvest/harvester.py:579\u001b[0m, in \u001b[0;36mdownload_tif\u001b[0;34m(image, region, path, scale, crs, overwrite)\u001b[0m\n\u001b[1;32m    576\u001b[0m     \u001b[38;5;66;03m# Get filename from path\u001b[39;00m\n\u001b[1;32m    578\u001b[0m     \u001b[38;5;28;01mwith\u001b[39;00m msg\u001b[38;5;241m.\u001b[39mspin(\u001b[38;5;124mf\u001b[39m\u001b[38;5;124m\"\u001b[39m\u001b[38;5;124mDownloading \u001b[39m\u001b[38;5;132;01m{\u001b[39;00mfilename\u001b[38;5;132;01m}\u001b[39;00m\u001b[38;5;124m\"\u001b[39m) \u001b[38;5;28;01mas\u001b[39;00m s:\n\u001b[0;32m--> 579\u001b[0m         \u001b[43mgeemap\u001b[49m\u001b[38;5;241;43m.\u001b[39;49m\u001b[43mdownload_ee_image\u001b[49m\u001b[43m(\u001b[49m\n\u001b[1;32m    580\u001b[0m \u001b[43m            \u001b[49m\u001b[43mimage\u001b[49m\u001b[38;5;241;43m=\u001b[39;49m\u001b[43mimage\u001b[49m\u001b[43m,\u001b[49m\n\u001b[1;32m    581\u001b[0m \u001b[43m            \u001b[49m\u001b[43mregion\u001b[49m\u001b[38;5;241;43m=\u001b[39;49m\u001b[43mregion\u001b[49m\u001b[43m,\u001b[49m\n\u001b[1;32m    582\u001b[0m \u001b[43m            \u001b[49m\u001b[43mfilename\u001b[49m\u001b[38;5;241;43m=\u001b[39;49m\u001b[43mpath\u001b[49m\u001b[43m,\u001b[49m\n\u001b[1;32m    583\u001b[0m \u001b[43m            \u001b[49m\u001b[43mcrs\u001b[49m\u001b[38;5;241;43m=\u001b[39;49m\u001b[38;5;124;43m\"\u001b[39;49m\u001b[38;5;124;43mEPSG:4326\u001b[39;49m\u001b[38;5;124;43m\"\u001b[39;49m\u001b[43m,\u001b[49m\n\u001b[1;32m    584\u001b[0m \u001b[43m            \u001b[49m\u001b[43mscale\u001b[49m\u001b[38;5;241;43m=\u001b[39;49m\u001b[43mscale\u001b[49m\u001b[43m,\u001b[49m\n\u001b[1;32m    585\u001b[0m \u001b[43m        \u001b[49m\u001b[43m)\u001b[49m\n\u001b[1;32m    586\u001b[0m         s(\u001b[38;5;241m1\u001b[39m)\n\u001b[1;32m    587\u001b[0m \u001b[38;5;66;03m# final_size = convert_size(os.path.getsize(path))\u001b[39;00m\n\u001b[1;32m    588\u001b[0m \u001b[38;5;66;03m# cprint(f\"✔ File saved as {path} [final size {final_size}]\", \"green\")\u001b[39;00m\n",
      "File \u001b[0;32m~/mambaforge/envs/geodatatest/lib/python3.10/site-packages/geemap/common.py:12555\u001b[0m, in \u001b[0;36mdownload_ee_image\u001b[0;34m(image, filename, region, crs, crs_transform, scale, resampling, dtype, overwrite, num_threads, max_tile_size, max_tile_dim, shape, scale_offset, unmask_value, **kwargs)\u001b[0m\n\u001b[1;32m  12552\u001b[0m     kwargs[\u001b[38;5;124m\"\u001b[39m\u001b[38;5;124mscale_offset\u001b[39m\u001b[38;5;124m\"\u001b[39m] \u001b[38;5;241m=\u001b[39m scale_offset\n\u001b[1;32m  12554\u001b[0m img \u001b[38;5;241m=\u001b[39m gd\u001b[38;5;241m.\u001b[39mdownload\u001b[38;5;241m.\u001b[39mBaseImage(image)\n\u001b[0;32m> 12555\u001b[0m \u001b[43mimg\u001b[49m\u001b[38;5;241;43m.\u001b[39;49m\u001b[43mdownload\u001b[49m\u001b[43m(\u001b[49m\u001b[43mfilename\u001b[49m\u001b[43m,\u001b[49m\u001b[43m \u001b[49m\u001b[43moverwrite\u001b[49m\u001b[38;5;241;43m=\u001b[39;49m\u001b[43moverwrite\u001b[49m\u001b[43m,\u001b[49m\u001b[43m \u001b[49m\u001b[43mnum_threads\u001b[49m\u001b[38;5;241;43m=\u001b[39;49m\u001b[43mnum_threads\u001b[49m\u001b[43m,\u001b[49m\u001b[43m \u001b[49m\u001b[38;5;241;43m*\u001b[39;49m\u001b[38;5;241;43m*\u001b[39;49m\u001b[43mkwargs\u001b[49m\u001b[43m)\u001b[49m\n",
      "File \u001b[0;32m~/mambaforge/envs/geodatatest/lib/python3.10/site-packages/geedim/download.py:880\u001b[0m, in \u001b[0;36mBaseImage.download\u001b[0;34m(self, filename, overwrite, num_threads, max_tile_size, max_tile_dim, **kwargs)\u001b[0m\n\u001b[1;32m    877\u001b[0m         \u001b[38;5;28;01mraise\u001b[39;00m \u001b[38;5;167;01mFileExistsError\u001b[39;00m(\u001b[38;5;124mf\u001b[39m\u001b[38;5;124m'\u001b[39m\u001b[38;5;132;01m{\u001b[39;00mfilename\u001b[38;5;132;01m}\u001b[39;00m\u001b[38;5;124m exists\u001b[39m\u001b[38;5;124m'\u001b[39m)\n\u001b[1;32m    879\u001b[0m \u001b[38;5;66;03m# prepare (resample, convert, reproject) the image for download\u001b[39;00m\n\u001b[0;32m--> 880\u001b[0m exp_image, profile \u001b[38;5;241m=\u001b[39m \u001b[38;5;28;43mself\u001b[39;49m\u001b[38;5;241;43m.\u001b[39;49m\u001b[43m_prepare_for_download\u001b[49m\u001b[43m(\u001b[49m\u001b[38;5;241;43m*\u001b[39;49m\u001b[38;5;241;43m*\u001b[39;49m\u001b[43mkwargs\u001b[49m\u001b[43m)\u001b[49m\n\u001b[1;32m    882\u001b[0m \u001b[38;5;66;03m# get the dimensions of an image tile that will satisfy GEE download limits\u001b[39;00m\n\u001b[1;32m    883\u001b[0m tile_shape, num_tiles \u001b[38;5;241m=\u001b[39m \u001b[38;5;28mself\u001b[39m\u001b[38;5;241m.\u001b[39m_get_tile_shape(exp_image, max_tile_size\u001b[38;5;241m=\u001b[39mmax_tile_size, max_tile_dim\u001b[38;5;241m=\u001b[39mmax_tile_dim)\n",
      "File \u001b[0;32m~/mambaforge/envs/geodatatest/lib/python3.10/site-packages/geedim/download.py:536\u001b[0m, in \u001b[0;36mBaseImage._prepare_for_download\u001b[0;34m(self, set_nodata, **kwargs)\u001b[0m\n\u001b[1;32m    529\u001b[0m \u001b[38;5;250m\u001b[39m\u001b[38;5;124;03m\"\"\"\u001b[39;00m\n\u001b[1;32m    530\u001b[0m \u001b[38;5;124;03mPrepare the encapsulated image for tiled GeoTIFF download. Will reproject, resample, clip and convert the image\u001b[39;00m\n\u001b[1;32m    531\u001b[0m \u001b[38;5;124;03maccording to the provided parameters.\u001b[39;00m\n\u001b[1;32m    532\u001b[0m \n\u001b[1;32m    533\u001b[0m \u001b[38;5;124;03mReturns the prepared image and a rasterio profile for the downloaded GeoTIFF.\u001b[39;00m\n\u001b[1;32m    534\u001b[0m \u001b[38;5;124;03m\"\"\"\u001b[39;00m\n\u001b[1;32m    535\u001b[0m \u001b[38;5;66;03m# resample, convert, clip and reproject image according to download params\u001b[39;00m\n\u001b[0;32m--> 536\u001b[0m exp_image \u001b[38;5;241m=\u001b[39m \u001b[38;5;28;43mself\u001b[39;49m\u001b[38;5;241;43m.\u001b[39;49m\u001b[43m_prepare_for_export\u001b[49m\u001b[43m(\u001b[49m\u001b[38;5;241;43m*\u001b[39;49m\u001b[38;5;241;43m*\u001b[39;49m\u001b[43mkwargs\u001b[49m\u001b[43m)\u001b[49m\n\u001b[1;32m    537\u001b[0m \u001b[38;5;66;03m# see float nodata workaround note in Tile.download(...)\u001b[39;00m\n\u001b[1;32m    538\u001b[0m nodata_dict \u001b[38;5;241m=\u001b[39m \u001b[38;5;28mdict\u001b[39m(\n\u001b[1;32m    539\u001b[0m     float32\u001b[38;5;241m=\u001b[39m\u001b[38;5;28mself\u001b[39m\u001b[38;5;241m.\u001b[39m_float_nodata,\n\u001b[1;32m    540\u001b[0m     float64\u001b[38;5;241m=\u001b[39m\u001b[38;5;28mself\u001b[39m\u001b[38;5;241m.\u001b[39m_float_nodata,\n\u001b[0;32m   (...)\u001b[0m\n\u001b[1;32m    546\u001b[0m     int32\u001b[38;5;241m=\u001b[39mnp\u001b[38;5;241m.\u001b[39miinfo(\u001b[38;5;124m'\u001b[39m\u001b[38;5;124mint32\u001b[39m\u001b[38;5;124m'\u001b[39m)\u001b[38;5;241m.\u001b[39mmin,\n\u001b[1;32m    547\u001b[0m )  \u001b[38;5;66;03m# yapf: disable\u001b[39;00m\n",
      "File \u001b[0;32m~/mambaforge/envs/geodatatest/lib/python3.10/site-packages/geedim/download.py:474\u001b[0m, in \u001b[0;36mBaseImage._prepare_for_export\u001b[0;34m(self, crs, crs_transform, shape, region, scale, resampling, dtype, scale_offset)\u001b[0m\n\u001b[1;32m    472\u001b[0m     im_dtype \u001b[38;5;241m=\u001b[39m \u001b[38;5;124m'\u001b[39m\u001b[38;5;124mfloat64\u001b[39m\u001b[38;5;124m'\u001b[39m\n\u001b[1;32m    473\u001b[0m \u001b[38;5;28;01melse\u001b[39;00m:\n\u001b[0;32m--> 474\u001b[0m     im_dtype \u001b[38;5;241m=\u001b[39m \u001b[38;5;28;43mself\u001b[39;49m\u001b[38;5;241;43m.\u001b[39;49m\u001b[43mdtype\u001b[49m\n\u001b[1;32m    476\u001b[0m resampling \u001b[38;5;241m=\u001b[39m ResamplingMethod(resampling)\n\u001b[1;32m    477\u001b[0m \u001b[38;5;28;01mif\u001b[39;00m resampling \u001b[38;5;241m!=\u001b[39m \u001b[38;5;28mself\u001b[39m\u001b[38;5;241m.\u001b[39m_default_resampling:\n",
      "File \u001b[0;32m~/mambaforge/envs/geodatatest/lib/python3.10/site-packages/geedim/download.py:201\u001b[0m, in \u001b[0;36mBaseImage.dtype\u001b[0;34m(self)\u001b[0m\n\u001b[1;32m    199\u001b[0m \u001b[38;5;250m\u001b[39m\u001b[38;5;124;03m\"\"\" Minimum size data type able to represent the image values. \"\"\"\u001b[39;00m\n\u001b[1;32m    200\u001b[0m \u001b[38;5;28;01mif\u001b[39;00m \u001b[38;5;129;01mnot\u001b[39;00m \u001b[38;5;28mself\u001b[39m\u001b[38;5;241m.\u001b[39m_min_dtype:\n\u001b[0;32m--> 201\u001b[0m     \u001b[38;5;28mself\u001b[39m\u001b[38;5;241m.\u001b[39m_min_dtype \u001b[38;5;241m=\u001b[39m \u001b[38;5;28mself\u001b[39m\u001b[38;5;241m.\u001b[39m_get_min_dtype(\u001b[38;5;28;43mself\u001b[39;49m\u001b[38;5;241;43m.\u001b[39;49m\u001b[43m_ee_info\u001b[49m)\n\u001b[1;32m    202\u001b[0m \u001b[38;5;28;01mreturn\u001b[39;00m \u001b[38;5;28mself\u001b[39m\u001b[38;5;241m.\u001b[39m_min_dtype\n",
      "File \u001b[0;32m~/mambaforge/envs/geodatatest/lib/python3.10/site-packages/geedim/download.py:106\u001b[0m, in \u001b[0;36mBaseImage._ee_info\u001b[0;34m(self)\u001b[0m\n\u001b[1;32m    104\u001b[0m \u001b[38;5;250m\u001b[39m\u001b[38;5;124;03m\"\"\" Earth Engine image metadata. \"\"\"\u001b[39;00m\n\u001b[1;32m    105\u001b[0m \u001b[38;5;28;01mif\u001b[39;00m \u001b[38;5;28mself\u001b[39m\u001b[38;5;241m.\u001b[39m__ee_info \u001b[38;5;129;01mis\u001b[39;00m \u001b[38;5;28;01mNone\u001b[39;00m:\n\u001b[0;32m--> 106\u001b[0m     \u001b[38;5;28mself\u001b[39m\u001b[38;5;241m.\u001b[39m__ee_info \u001b[38;5;241m=\u001b[39m \u001b[38;5;28;43mself\u001b[39;49m\u001b[38;5;241;43m.\u001b[39;49m\u001b[43m_ee_image\u001b[49m\u001b[38;5;241;43m.\u001b[39;49m\u001b[43mgetInfo\u001b[49m\u001b[43m(\u001b[49m\u001b[43m)\u001b[49m\n\u001b[1;32m    107\u001b[0m \u001b[38;5;28;01mreturn\u001b[39;00m \u001b[38;5;28mself\u001b[39m\u001b[38;5;241m.\u001b[39m__ee_info\n",
      "File \u001b[0;32m~/mambaforge/envs/geodatatest/lib/python3.10/site-packages/ee/image.py:117\u001b[0m, in \u001b[0;36mImage.getInfo\u001b[0;34m(self)\u001b[0m\n\u001b[1;32m    109\u001b[0m \u001b[38;5;28;01mdef\u001b[39;00m \u001b[38;5;21mgetInfo\u001b[39m(\u001b[38;5;28mself\u001b[39m):\n\u001b[1;32m    110\u001b[0m \u001b[38;5;250m  \u001b[39m\u001b[38;5;124;03m\"\"\"Fetch and return information about this image.\u001b[39;00m\n\u001b[1;32m    111\u001b[0m \n\u001b[1;32m    112\u001b[0m \u001b[38;5;124;03m  Returns:\u001b[39;00m\n\u001b[0;32m   (...)\u001b[0m\n\u001b[1;32m    115\u001b[0m \u001b[38;5;124;03m        properties - Dictionary containing the image's metadata properties.\u001b[39;00m\n\u001b[1;32m    116\u001b[0m \u001b[38;5;124;03m  \"\"\"\u001b[39;00m\n\u001b[0;32m--> 117\u001b[0m   \u001b[38;5;28;01mreturn\u001b[39;00m \u001b[38;5;28;43msuper\u001b[39;49m\u001b[43m(\u001b[49m\u001b[43mImage\u001b[49m\u001b[43m,\u001b[49m\u001b[43m \u001b[49m\u001b[38;5;28;43mself\u001b[39;49m\u001b[43m)\u001b[49m\u001b[38;5;241;43m.\u001b[39;49m\u001b[43mgetInfo\u001b[49m\u001b[43m(\u001b[49m\u001b[43m)\u001b[49m\n",
      "File \u001b[0;32m~/mambaforge/envs/geodatatest/lib/python3.10/site-packages/ee/computedobject.py:96\u001b[0m, in \u001b[0;36mComputedObject.getInfo\u001b[0;34m(self)\u001b[0m\n\u001b[1;32m     90\u001b[0m \u001b[38;5;28;01mdef\u001b[39;00m \u001b[38;5;21mgetInfo\u001b[39m(\u001b[38;5;28mself\u001b[39m):\n\u001b[1;32m     91\u001b[0m \u001b[38;5;250m  \u001b[39m\u001b[38;5;124;03m\"\"\"Fetch and return information about this object.\u001b[39;00m\n\u001b[1;32m     92\u001b[0m \n\u001b[1;32m     93\u001b[0m \u001b[38;5;124;03m  Returns:\u001b[39;00m\n\u001b[1;32m     94\u001b[0m \u001b[38;5;124;03m    The object can evaluate to anything.\u001b[39;00m\n\u001b[1;32m     95\u001b[0m \u001b[38;5;124;03m  \"\"\"\u001b[39;00m\n\u001b[0;32m---> 96\u001b[0m   \u001b[38;5;28;01mreturn\u001b[39;00m \u001b[43mdata\u001b[49m\u001b[38;5;241;43m.\u001b[39;49m\u001b[43mcomputeValue\u001b[49m\u001b[43m(\u001b[49m\u001b[38;5;28;43mself\u001b[39;49m\u001b[43m)\u001b[49m\n",
      "File \u001b[0;32m~/mambaforge/envs/geodatatest/lib/python3.10/site-packages/ee/data.py:776\u001b[0m, in \u001b[0;36mcomputeValue\u001b[0;34m(obj)\u001b[0m\n\u001b[1;32m    773\u001b[0m body \u001b[38;5;241m=\u001b[39m {\u001b[38;5;124m'\u001b[39m\u001b[38;5;124mexpression\u001b[39m\u001b[38;5;124m'\u001b[39m: serializer\u001b[38;5;241m.\u001b[39mencode(obj, for_cloud_api\u001b[38;5;241m=\u001b[39m\u001b[38;5;28;01mTrue\u001b[39;00m)}\n\u001b[1;32m    774\u001b[0m _maybe_populate_workload_tag(body)\n\u001b[0;32m--> 776\u001b[0m \u001b[38;5;28;01mreturn\u001b[39;00m \u001b[43m_execute_cloud_call\u001b[49m\u001b[43m(\u001b[49m\n\u001b[1;32m    777\u001b[0m \u001b[43m    \u001b[49m\u001b[43m_get_cloud_api_resource\u001b[49m\u001b[43m(\u001b[49m\u001b[43m)\u001b[49m\u001b[38;5;241;43m.\u001b[39;49m\u001b[43mprojects\u001b[49m\u001b[43m(\u001b[49m\u001b[43m)\u001b[49m\u001b[38;5;241;43m.\u001b[39;49m\u001b[43mvalue\u001b[49m\u001b[43m(\u001b[49m\u001b[43m)\u001b[49m\u001b[38;5;241;43m.\u001b[39;49m\u001b[43mcompute\u001b[49m\u001b[43m(\u001b[49m\n\u001b[1;32m    778\u001b[0m \u001b[43m        \u001b[49m\u001b[43mbody\u001b[49m\u001b[38;5;241;43m=\u001b[39;49m\u001b[43mbody\u001b[49m\u001b[43m,\u001b[49m\n\u001b[1;32m    779\u001b[0m \u001b[43m        \u001b[49m\u001b[43mproject\u001b[49m\u001b[38;5;241;43m=\u001b[39;49m\u001b[43m_get_projects_path\u001b[49m\u001b[43m(\u001b[49m\u001b[43m)\u001b[49m\u001b[43m,\u001b[49m\n\u001b[1;32m    780\u001b[0m \u001b[43m        \u001b[49m\u001b[43mprettyPrint\u001b[49m\u001b[38;5;241;43m=\u001b[39;49m\u001b[38;5;28;43;01mFalse\u001b[39;49;00m\u001b[43m)\u001b[49m\u001b[43m)\u001b[49m[\u001b[38;5;124m'\u001b[39m\u001b[38;5;124mresult\u001b[39m\u001b[38;5;124m'\u001b[39m]\n",
      "File \u001b[0;32m~/mambaforge/envs/geodatatest/lib/python3.10/site-packages/ee/data.py:328\u001b[0m, in \u001b[0;36m_execute_cloud_call\u001b[0;34m(call, num_retries)\u001b[0m\n\u001b[1;32m    326\u001b[0m   \u001b[38;5;28;01mreturn\u001b[39;00m call\u001b[38;5;241m.\u001b[39mexecute(num_retries\u001b[38;5;241m=\u001b[39mnum_retries)\n\u001b[1;32m    327\u001b[0m \u001b[38;5;28;01mexcept\u001b[39;00m googleapiclient\u001b[38;5;241m.\u001b[39merrors\u001b[38;5;241m.\u001b[39mHttpError \u001b[38;5;28;01mas\u001b[39;00m e:\n\u001b[0;32m--> 328\u001b[0m   \u001b[38;5;28;01mraise\u001b[39;00m _translate_cloud_exception(e)\n",
      "\u001b[0;31mEEException\u001b[0m: Image.select: Pattern 'NDVI' did not match any bands."
     ]
    }
   ],
   "source": [
    "df = harvest.run(fname_settings, return_df = True)"
   ]
  },
  {
   "cell_type": "markdown",
   "metadata": {},
   "source": [
    "### Inspect result dataframe"
   ]
  },
  {
   "cell_type": "code",
   "execution_count": 4,
   "metadata": {},
   "outputs": [
    {
     "data": {
      "text/html": [
       "<div>\n",
       "<style scoped>\n",
       "    .dataframe tbody tr th:only-of-type {\n",
       "        vertical-align: middle;\n",
       "    }\n",
       "\n",
       "    .dataframe tbody tr th {\n",
       "        vertical-align: top;\n",
       "    }\n",
       "\n",
       "    .dataframe thead th {\n",
       "        text-align: right;\n",
       "    }\n",
       "</style>\n",
       "<table border=\"1\" class=\"dataframe\">\n",
       "  <thead>\n",
       "    <tr style=\"text-align: right;\">\n",
       "      <th></th>\n",
       "      <th>Longitude</th>\n",
       "      <th>Latitude</th>\n",
       "      <th>geometry</th>\n",
       "      <th>ee_LANDSAT_bfafc43c_median</th>\n",
       "      <th>landsat_barest_earth</th>\n",
       "      <th>ga_ls_ard_3_2022-9-30</th>\n",
       "      <th>ga_ls_ard_3_2022-10-1</th>\n",
       "      <th>ga_ls_ard_3_2022-10-2</th>\n",
       "      <th>ga_ls_ard_3_2022-10-3</th>\n",
       "      <th>ga_ls_ard_3_2022-10-4</th>\n",
       "      <th>...</th>\n",
       "      <th>DEM</th>\n",
       "      <th>landscape_Slope</th>\n",
       "      <th>landscape_Aspect</th>\n",
       "      <th>landscape_Relief_300m</th>\n",
       "      <th>daily_rain_mean</th>\n",
       "      <th>max_temp_median</th>\n",
       "      <th>min_temp_median</th>\n",
       "      <th>monthly_rain_sum</th>\n",
       "      <th>Bulk_Density_0-5cm</th>\n",
       "      <th>Clay_0-5cm</th>\n",
       "    </tr>\n",
       "  </thead>\n",
       "  <tbody>\n",
       "    <tr>\n",
       "      <th>0</th>\n",
       "      <td>149.852680</td>\n",
       "      <td>-30.264663</td>\n",
       "      <td>POINT (149.85268 -30.26466)</td>\n",
       "      <td>0.654711</td>\n",
       "      <td>1059</td>\n",
       "      <td>-999</td>\n",
       "      <td>-999</td>\n",
       "      <td>-999</td>\n",
       "      <td>-999</td>\n",
       "      <td>-999</td>\n",
       "      <td>...</td>\n",
       "      <td>244.658585</td>\n",
       "      <td>1.046624</td>\n",
       "      <td>209.138062</td>\n",
       "      <td>10.463379</td>\n",
       "      <td>0.000000</td>\n",
       "      <td>22.700001</td>\n",
       "      <td>9.8</td>\n",
       "      <td>189.500000</td>\n",
       "      <td>1.368779</td>\n",
       "      <td>27.214527</td>\n",
       "    </tr>\n",
       "    <tr>\n",
       "      <th>1</th>\n",
       "      <td>149.884838</td>\n",
       "      <td>-30.265302</td>\n",
       "      <td>POINT (149.88484 -30.26530)</td>\n",
       "      <td>0.415696</td>\n",
       "      <td>1082</td>\n",
       "      <td>-999</td>\n",
       "      <td>-999</td>\n",
       "      <td>-999</td>\n",
       "      <td>-999</td>\n",
       "      <td>-999</td>\n",
       "      <td>...</td>\n",
       "      <td>264.428772</td>\n",
       "      <td>1.001000</td>\n",
       "      <td>279.542847</td>\n",
       "      <td>6.037811</td>\n",
       "      <td>0.199951</td>\n",
       "      <td>22.600000</td>\n",
       "      <td>9.5</td>\n",
       "      <td>189.000000</td>\n",
       "      <td>1.362662</td>\n",
       "      <td>31.956041</td>\n",
       "    </tr>\n",
       "    <tr>\n",
       "      <th>2</th>\n",
       "      <td>149.884838</td>\n",
       "      <td>-30.265302</td>\n",
       "      <td>POINT (149.88484 -30.26530)</td>\n",
       "      <td>0.415696</td>\n",
       "      <td>1082</td>\n",
       "      <td>-999</td>\n",
       "      <td>-999</td>\n",
       "      <td>-999</td>\n",
       "      <td>-999</td>\n",
       "      <td>-999</td>\n",
       "      <td>...</td>\n",
       "      <td>264.428772</td>\n",
       "      <td>1.001000</td>\n",
       "      <td>279.542847</td>\n",
       "      <td>6.037811</td>\n",
       "      <td>0.199951</td>\n",
       "      <td>22.600000</td>\n",
       "      <td>9.5</td>\n",
       "      <td>189.000000</td>\n",
       "      <td>1.362662</td>\n",
       "      <td>31.956041</td>\n",
       "    </tr>\n",
       "    <tr>\n",
       "      <th>3</th>\n",
       "      <td>149.838791</td>\n",
       "      <td>-30.278542</td>\n",
       "      <td>POINT (149.83879 -30.27854)</td>\n",
       "      <td>0.594925</td>\n",
       "      <td>1092</td>\n",
       "      <td>-999</td>\n",
       "      <td>-999</td>\n",
       "      <td>-999</td>\n",
       "      <td>-999</td>\n",
       "      <td>-999</td>\n",
       "      <td>...</td>\n",
       "      <td>233.005081</td>\n",
       "      <td>0.841430</td>\n",
       "      <td>242.743683</td>\n",
       "      <td>4.798782</td>\n",
       "      <td>0.000000</td>\n",
       "      <td>22.900000</td>\n",
       "      <td>10.1</td>\n",
       "      <td>173.199951</td>\n",
       "      <td>1.360451</td>\n",
       "      <td>32.675858</td>\n",
       "    </tr>\n",
       "    <tr>\n",
       "      <th>4</th>\n",
       "      <td>149.830843</td>\n",
       "      <td>-30.275437</td>\n",
       "      <td>POINT (149.83084 -30.27544)</td>\n",
       "      <td>0.708653</td>\n",
       "      <td>1160</td>\n",
       "      <td>-999</td>\n",
       "      <td>-999</td>\n",
       "      <td>-999</td>\n",
       "      <td>-999</td>\n",
       "      <td>-999</td>\n",
       "      <td>...</td>\n",
       "      <td>230.575439</td>\n",
       "      <td>1.062537</td>\n",
       "      <td>242.921112</td>\n",
       "      <td>5.204880</td>\n",
       "      <td>0.000000</td>\n",
       "      <td>22.900000</td>\n",
       "      <td>10.1</td>\n",
       "      <td>173.199951</td>\n",
       "      <td>1.334362</td>\n",
       "      <td>35.097813</td>\n",
       "    </tr>\n",
       "  </tbody>\n",
       "</table>\n",
       "<p>5 rows × 76 columns</p>\n",
       "</div>"
      ],
      "text/plain": [
       "    Longitude   Latitude                     geometry  \\\n",
       "0  149.852680 -30.264663  POINT (149.85268 -30.26466)   \n",
       "1  149.884838 -30.265302  POINT (149.88484 -30.26530)   \n",
       "2  149.884838 -30.265302  POINT (149.88484 -30.26530)   \n",
       "3  149.838791 -30.278542  POINT (149.83879 -30.27854)   \n",
       "4  149.830843 -30.275437  POINT (149.83084 -30.27544)   \n",
       "\n",
       "   ee_LANDSAT_bfafc43c_median  landsat_barest_earth  ga_ls_ard_3_2022-9-30  \\\n",
       "0                    0.654711                  1059                   -999   \n",
       "1                    0.415696                  1082                   -999   \n",
       "2                    0.415696                  1082                   -999   \n",
       "3                    0.594925                  1092                   -999   \n",
       "4                    0.708653                  1160                   -999   \n",
       "\n",
       "   ga_ls_ard_3_2022-10-1  ga_ls_ard_3_2022-10-2  ga_ls_ard_3_2022-10-3  \\\n",
       "0                   -999                   -999                   -999   \n",
       "1                   -999                   -999                   -999   \n",
       "2                   -999                   -999                   -999   \n",
       "3                   -999                   -999                   -999   \n",
       "4                   -999                   -999                   -999   \n",
       "\n",
       "   ga_ls_ard_3_2022-10-4  ...         DEM  landscape_Slope  landscape_Aspect  \\\n",
       "0                   -999  ...  244.658585         1.046624        209.138062   \n",
       "1                   -999  ...  264.428772         1.001000        279.542847   \n",
       "2                   -999  ...  264.428772         1.001000        279.542847   \n",
       "3                   -999  ...  233.005081         0.841430        242.743683   \n",
       "4                   -999  ...  230.575439         1.062537        242.921112   \n",
       "\n",
       "   landscape_Relief_300m  daily_rain_mean  max_temp_median  min_temp_median  \\\n",
       "0              10.463379         0.000000        22.700001              9.8   \n",
       "1               6.037811         0.199951        22.600000              9.5   \n",
       "2               6.037811         0.199951        22.600000              9.5   \n",
       "3               4.798782         0.000000        22.900000             10.1   \n",
       "4               5.204880         0.000000        22.900000             10.1   \n",
       "\n",
       "   monthly_rain_sum  Bulk_Density_0-5cm  Clay_0-5cm  \n",
       "0        189.500000            1.368779   27.214527  \n",
       "1        189.000000            1.362662   31.956041  \n",
       "2        189.000000            1.362662   31.956041  \n",
       "3        173.199951            1.360451   32.675858  \n",
       "4        173.199951            1.334362   35.097813  \n",
       "\n",
       "[5 rows x 76 columns]"
      ]
     },
     "execution_count": 4,
     "metadata": {},
     "output_type": "execute_result"
    }
   ],
   "source": [
    "# Inspect either entire generated dataframe with \n",
    "# df\n",
    "# or only the first rows with\n",
    "df.head()"
   ]
  }
 ],
 "metadata": {
  "kernelspec": {
   "display_name": "Python 3 (ipykernel)",
   "language": "python",
   "name": "python3"
  },
  "language_info": {
   "codemirror_mode": {
    "name": "ipython",
    "version": 3
   },
   "file_extension": ".py",
   "mimetype": "text/x-python",
   "name": "python",
   "nbconvert_exporter": "python",
   "pygments_lexer": "ipython3",
   "version": "3.10.8"
  },
  "vscode": {
   "interpreter": {
    "hash": "2427be33fb37161d4873ebb2ebb28bafb993e171bf0c8b43db58fbbd3518e293"
   }
  }
 },
 "nbformat": 4,
 "nbformat_minor": 2
}
