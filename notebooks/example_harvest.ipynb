{
 "cells": [
  {
   "attachments": {},
   "cell_type": "markdown",
   "metadata": {},
   "source": [
    "GEODATA-HARVESTER NOTEBOOK\n",
    "--------------------------------\n",
    "\n",
    "The Geodata-Harvester enables researchers with reusable workflows for automatic data extraction from a range of data sources including spatial-temporal processing into useable formats. User provided data is auto-completed with a suitable set of spatial- and temporal-aligned covariates as a ready-made dataset for machine learning and agriculture models. In addition, all requested data layer maps are automatically extracted and aligned for a specific region and time period.\n",
    "\n",
    "The main workflow of the Harvester is as follows:\n",
    "\n",
    "Options and user settings (e.g., data layer selections, spatial coverage, temporal constraints, i/o directory names) are defined by the user in the notebook settings menu or can be loaded with a settings yaml file (e.g., settings/settings_test). All settings are also saved in a yaml file for reusability.\n",
    "\n",
    "The notebook imports settings and all Python modules that include functionality to download and extract data for each data source. After settings are read in, checked, and processed into valid data retrieval (API) queries, all selected data layers are sequentially downloaded and then processed into a clean dataframe table and co-registered raster maps. The entire workflow can be run either completely automatically or individually by selecting only certain process parts in the Notebook.\n",
    "Additional data sources can be best added by writing the API handlers and extraction functionalities as separate Python module, which are then imported by the Notebook. Currently the following data sources are supported by the following modules:\n",
    "\n",
    "- 'getdata_slga.py': Soil Data from Soil and Landscape Grid of Australia (SLGA)\n",
    "- 'getdata_landscape': Landscape data from Soil and Landscape Grid of Australia (SLGA)\n",
    "- 'getdata_silo.py': Climate Data from SILO\n",
    "- 'getdata_dem.py: 'National Digital Elevation Model (DEM) 1 Second plus Slope and Apect calculation\n",
    "- 'getdata_dea_nci.py: 'Digital Earth Australia's (DEA) Geoscience Earth Observations via NCI server\n",
    "- 'getdata_dea.py: 'Digital Earth Australia's (DEA) Geoscience Earth Observations via Open Web Service server provided by DEA\n",
    "- 'getdata_radiometric.py': Geoscience Australia National Geophysical Compilation Sub-collection Radiometrics\n",
    "'eeharvest': Google Earth Engine API integration handler\n",
    "For more details. please see README and the Data Overview page.\n",
    "\n",
    "This notebook is part of the Data Harvester project developed for the Agricultural Research Federation (AgReFed).\n",
    "\n",
    "Copyright 2023 Sydney Informatics Hub (SIH), The University of Sydney"
   ]
  },
  {
   "attachments": {},
   "cell_type": "markdown",
   "metadata": {},
   "source": [
    "### Import libraries"
   ]
  },
  {
   "cell_type": "code",
   "execution_count": 1,
   "metadata": {},
   "outputs": [
    {
     "ename": "ModuleNotFoundError",
     "evalue": "No module named 'getdata_dea'",
     "output_type": "error",
     "traceback": [
      "\u001b[0;31m---------------------------------------------------------------------------\u001b[0m",
      "\u001b[0;31mModuleNotFoundError\u001b[0m                       Traceback (most recent call last)",
      "Cell \u001b[0;32mIn[1], line 4\u001b[0m\n\u001b[1;32m      1\u001b[0m \u001b[39mimport\u001b[39;00m \u001b[39mos\u001b[39;00m\n\u001b[1;32m      3\u001b[0m \u001b[39m# Import harvest function from geodata_harvester\u001b[39;00m\n\u001b[0;32m----> 4\u001b[0m \u001b[39mfrom\u001b[39;00m \u001b[39mgeodata_harvester\u001b[39;00m \u001b[39mimport\u001b[39;00m harvest\n",
      "File \u001b[0;32m~/mambaforge/envs/geodata_test/lib/python3.9/site-packages/geodata_harvester/harvest.py:14\u001b[0m\n\u001b[1;32m     11\u001b[0m \u001b[39mfrom\u001b[39;00m \u001b[39mpathlib\u001b[39;00m \u001b[39mimport\u001b[39;00m Path\n\u001b[1;32m     13\u001b[0m \u001b[39mimport\u001b[39;00m \u001b[39mgeopandas\u001b[39;00m \u001b[39mas\u001b[39;00m \u001b[39mgpd\u001b[39;00m\n\u001b[0;32m---> 14\u001b[0m \u001b[39mimport\u001b[39;00m \u001b[39mgetdata_dea\u001b[39;00m\n\u001b[1;32m     15\u001b[0m \u001b[39mimport\u001b[39;00m \u001b[39mgetdata_dem\u001b[39;00m\n\u001b[1;32m     16\u001b[0m \u001b[39mimport\u001b[39;00m \u001b[39mgetdata_ee\u001b[39;00m\n",
      "\u001b[0;31mModuleNotFoundError\u001b[0m: No module named 'getdata_dea'"
     ]
    }
   ],
   "source": [
    "import os\n",
    "\n",
    "# Import harvest function from geodata_harvester\n",
    "from geodata_harvester import harvest"
   ]
  },
  {
   "attachments": {},
   "cell_type": "markdown",
   "metadata": {},
   "source": [
    "### Specify settings file\n",
    "\n",
    "Set settings in settings YAML file beforehand, such as data-layer names, region, and dates. "
   ]
  },
  {
   "cell_type": "code",
   "execution_count": null,
   "metadata": {},
   "outputs": [],
   "source": [
    "fname_settings = 'settings_harvest.yaml'\n",
    "path_settings = 'settings'"
   ]
  },
  {
   "attachments": {},
   "cell_type": "markdown",
   "metadata": {},
   "source": [
    "### Harvest\n",
    "\n",
    "The harvest function executes automatically all download and processing steps for all data layers from the web as specified in settings file above.\n",
    "Filenames of the processed files and some metadata is saved in a dataframe df."
   ]
  },
  {
   "cell_type": "code",
   "execution_count": null,
   "metadata": {},
   "outputs": [],
   "source": [
    "df = harvest(os.path.join(path_settings,fname_settings))"
   ]
  }
 ],
 "metadata": {
  "kernelspec": {
   "display_name": "geodata_test",
   "language": "python",
   "name": "python3"
  },
  "language_info": {
   "codemirror_mode": {
    "name": "ipython",
    "version": 3
   },
   "file_extension": ".py",
   "mimetype": "text/x-python",
   "name": "python",
   "nbconvert_exporter": "python",
   "pygments_lexer": "ipython3",
   "version": "3.9.15"
  },
  "orig_nbformat": 4,
  "vscode": {
   "interpreter": {
    "hash": "0b223d7939cd53a9c785df37fa67da44c743318a08d833b81b63b041053a12c6"
   }
  }
 },
 "nbformat": 4,
 "nbformat_minor": 2
}
